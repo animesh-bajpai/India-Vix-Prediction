{
 "cells": [
  {
   "cell_type": "code",
   "execution_count": 1,
   "metadata": {},
   "outputs": [],
   "source": [
    "import os\n",
    "os.environ['TF_CPP_MIN_LOG_LEVEL'] = '2'"
   ]
  },
  {
   "cell_type": "code",
   "execution_count": 2,
   "metadata": {},
   "outputs": [],
   "source": [
    "import numpy as np\n",
    "from math import sqrt\n",
    "import matplotlib.pyplot as plt\n",
    "from keras.models import Sequential\n",
    "from keras.layers import Dense, LSTM, Dropout\n",
    "from sklearn.metrics import mean_squared_error, mean_absolute_error, mean_absolute_percentage_error"
   ]
  },
  {
   "cell_type": "code",
   "execution_count": 3,
   "metadata": {},
   "outputs": [],
   "source": [
    "from pre_process import *"
   ]
  },
  {
   "cell_type": "code",
   "execution_count": 4,
   "metadata": {},
   "outputs": [
    {
     "data": {
      "text/html": [
       "<div>\n",
       "<style scoped>\n",
       "    .dataframe tbody tr th:only-of-type {\n",
       "        vertical-align: middle;\n",
       "    }\n",
       "\n",
       "    .dataframe tbody tr th {\n",
       "        vertical-align: top;\n",
       "    }\n",
       "\n",
       "    .dataframe thead th {\n",
       "        text-align: right;\n",
       "    }\n",
       "</style>\n",
       "<table border=\"1\" class=\"dataframe\">\n",
       "  <thead>\n",
       "    <tr style=\"text-align: right;\">\n",
       "      <th></th>\n",
       "      <th>Close</th>\n",
       "      <th>PrevClose</th>\n",
       "      <th>Pchange</th>\n",
       "    </tr>\n",
       "    <tr>\n",
       "      <th>Date</th>\n",
       "      <th></th>\n",
       "      <th></th>\n",
       "      <th></th>\n",
       "    </tr>\n",
       "  </thead>\n",
       "  <tbody>\n",
       "    <tr>\n",
       "      <th>2016-01-01</th>\n",
       "      <td>14.2600</td>\n",
       "      <td>13.8700</td>\n",
       "      <td>2.81</td>\n",
       "    </tr>\n",
       "    <tr>\n",
       "      <th>2016-01-04</th>\n",
       "      <td>16.8350</td>\n",
       "      <td>14.2600</td>\n",
       "      <td>18.06</td>\n",
       "    </tr>\n",
       "    <tr>\n",
       "      <th>2016-01-05</th>\n",
       "      <td>16.7025</td>\n",
       "      <td>16.8350</td>\n",
       "      <td>-0.79</td>\n",
       "    </tr>\n",
       "    <tr>\n",
       "      <th>2016-01-06</th>\n",
       "      <td>16.5525</td>\n",
       "      <td>16.7025</td>\n",
       "      <td>-0.90</td>\n",
       "    </tr>\n",
       "    <tr>\n",
       "      <th>2016-01-07</th>\n",
       "      <td>18.9600</td>\n",
       "      <td>16.5525</td>\n",
       "      <td>14.54</td>\n",
       "    </tr>\n",
       "  </tbody>\n",
       "</table>\n",
       "</div>"
      ],
      "text/plain": [
       "              Close  PrevClose  Pchange\n",
       "Date                                   \n",
       "2016-01-01  14.2600    13.8700     2.81\n",
       "2016-01-04  16.8350    14.2600    18.06\n",
       "2016-01-05  16.7025    16.8350    -0.79\n",
       "2016-01-06  16.5525    16.7025    -0.90\n",
       "2016-01-07  18.9600    16.5525    14.54"
      ]
     },
     "execution_count": 4,
     "metadata": {},
     "output_type": "execute_result"
    }
   ],
   "source": [
    "df = read_data('Dataset/india_vix.csv')\n",
    "df.head()"
   ]
  },
  {
   "cell_type": "code",
   "execution_count": 5,
   "metadata": {},
   "outputs": [],
   "source": [
    "scaler, trainX, trainY, testX, testY = scale_split_data(df)"
   ]
  },
  {
   "cell_type": "code",
   "execution_count": 6,
   "metadata": {},
   "outputs": [],
   "source": [
    "epoch = 30\n",
    "testSize = testY.shape[0]\n",
    "trainSize = trainY.shape[0]\n",
    "totalFeatures = df.shape[1]\n",
    "testFeatures = testX.shape[1]\n",
    "trainFeatures = trainX.shape[2]"
   ]
  },
  {
   "cell_type": "code",
   "execution_count": 7,
   "metadata": {},
   "outputs": [],
   "source": [
    "model = Sequential()\n",
    "model.add(LSTM(units=50, return_sequences=True, input_shape=(1, trainFeatures)))\n",
    "model.add(Dropout(0.2))\n",
    "model.add(LSTM(units=50, return_sequences=True))\n",
    "model.add(Dropout(0.2))\n",
    "model.add(LSTM(units=50))\n",
    "model.add(Dropout(0.2))\n",
    "\n",
    "# Output Layer\n",
    "model.add(Dense(units=1))"
   ]
  },
  {
   "cell_type": "code",
   "execution_count": 8,
   "metadata": {},
   "outputs": [
    {
     "name": "stdout",
     "output_type": "stream",
     "text": [
      "Epoch 1/30\n",
      "43/43 - 11s - loss: 0.0132 - 11s/epoch - 260ms/step\n",
      "Epoch 2/30\n",
      "43/43 - 0s - loss: 0.0103 - 457ms/epoch - 11ms/step\n",
      "Epoch 3/30\n",
      "43/43 - 0s - loss: 0.0065 - 446ms/epoch - 10ms/step\n",
      "Epoch 4/30\n",
      "43/43 - 0s - loss: 0.0011 - 479ms/epoch - 11ms/step\n",
      "Epoch 5/30\n",
      "43/43 - 0s - loss: 6.8869e-04 - 402ms/epoch - 9ms/step\n",
      "Epoch 6/30\n",
      "43/43 - 1s - loss: 7.0459e-04 - 583ms/epoch - 14ms/step\n",
      "Epoch 7/30\n",
      "43/43 - 0s - loss: 5.9408e-04 - 284ms/epoch - 7ms/step\n",
      "Epoch 8/30\n",
      "43/43 - 0s - loss: 3.6867e-04 - 278ms/epoch - 6ms/step\n",
      "Epoch 9/30\n",
      "43/43 - 0s - loss: 4.7647e-04 - 303ms/epoch - 7ms/step\n",
      "Epoch 10/30\n",
      "43/43 - 0s - loss: 4.6250e-04 - 339ms/epoch - 8ms/step\n",
      "Epoch 11/30\n",
      "43/43 - 0s - loss: 3.7431e-04 - 285ms/epoch - 7ms/step\n",
      "Epoch 12/30\n",
      "43/43 - 0s - loss: 3.2092e-04 - 275ms/epoch - 6ms/step\n",
      "Epoch 13/30\n",
      "43/43 - 0s - loss: 3.5485e-04 - 290ms/epoch - 7ms/step\n",
      "Epoch 14/30\n",
      "43/43 - 0s - loss: 4.6905e-04 - 300ms/epoch - 7ms/step\n",
      "Epoch 15/30\n",
      "43/43 - 0s - loss: 3.4342e-04 - 294ms/epoch - 7ms/step\n",
      "Epoch 16/30\n",
      "43/43 - 0s - loss: 2.3280e-04 - 319ms/epoch - 7ms/step\n",
      "Epoch 17/30\n",
      "43/43 - 0s - loss: 2.5825e-04 - 307ms/epoch - 7ms/step\n",
      "Epoch 18/30\n",
      "43/43 - 0s - loss: 3.2438e-04 - 264ms/epoch - 6ms/step\n",
      "Epoch 19/30\n",
      "43/43 - 0s - loss: 2.8793e-04 - 305ms/epoch - 7ms/step\n",
      "Epoch 20/30\n",
      "43/43 - 0s - loss: 2.4318e-04 - 277ms/epoch - 6ms/step\n",
      "Epoch 21/30\n",
      "43/43 - 0s - loss: 4.5020e-04 - 303ms/epoch - 7ms/step\n",
      "Epoch 22/30\n",
      "43/43 - 0s - loss: 3.6726e-04 - 295ms/epoch - 7ms/step\n",
      "Epoch 23/30\n",
      "43/43 - 0s - loss: 4.9333e-04 - 279ms/epoch - 6ms/step\n",
      "Epoch 24/30\n",
      "43/43 - 0s - loss: 3.6925e-04 - 251ms/epoch - 6ms/step\n",
      "Epoch 25/30\n",
      "43/43 - 0s - loss: 2.0835e-04 - 313ms/epoch - 7ms/step\n",
      "Epoch 26/30\n",
      "43/43 - 0s - loss: 3.8519e-04 - 264ms/epoch - 6ms/step\n",
      "Epoch 27/30\n",
      "43/43 - 0s - loss: 3.0793e-04 - 273ms/epoch - 6ms/step\n",
      "Epoch 28/30\n",
      "43/43 - 1s - loss: 2.3584e-04 - 501ms/epoch - 12ms/step\n",
      "Epoch 29/30\n",
      "43/43 - 0s - loss: 2.9471e-04 - 332ms/epoch - 8ms/step\n",
      "Epoch 30/30\n",
      "43/43 - 0s - loss: 2.4637e-04 - 444ms/epoch - 10ms/step\n"
     ]
    }
   ],
   "source": [
    "model.compile(optimizer=\"adam\", loss=\"mse\")\n",
    "history = model.fit(trainX, trainY,  epochs=epoch,verbose=2)"
   ]
  },
  {
   "cell_type": "code",
   "execution_count": 9,
   "metadata": {},
   "outputs": [
    {
     "name": "stdout",
     "output_type": "stream",
     "text": [
      "15/15 [==============================] - 2s 5ms/step\n"
     ]
    }
   ],
   "source": [
    "scaled_pred = model.predict(testX)"
   ]
  },
  {
   "cell_type": "code",
   "execution_count": 10,
   "metadata": {},
   "outputs": [],
   "source": [
    "predData = np.zeros((testSize, totalFeatures))\n",
    "for i in range(testSize):\n",
    "        predData[i][0] = scaled_pred[i][0]\n",
    "predData = scaler.inverse_transform(predData)\n",
    "\n",
    "realData = np.zeros((testSize, totalFeatures))\n",
    "for i in range(testSize):\n",
    "        realData[i][0] = testY[i]\n",
    "realData = scaler.inverse_transform(realData)"
   ]
  },
  {
   "cell_type": "code",
   "execution_count": 11,
   "metadata": {},
   "outputs": [
    {
     "data": {
      "text/plain": [
       "<module 'matplotlib.pyplot' from '/home/bluebooks/.local/lib/python3.10/site-packages/matplotlib/pyplot.py'>"
      ]
     },
     "execution_count": 11,
     "metadata": {},
     "output_type": "execute_result"
    },
    {
     "data": {
      "image/png": "[encoded data removed]",
      "text/plain": [
       "<Figure size 640x480 with 1 Axes>"
      ]
     },
     "metadata": {},
     "output_type": "display_data"
    }
   ],
   "source": [
    "plt.plot(df.index[-testSize:], predData[:,0])\n",
    "plt.plot(df.index[-testSize:], realData[:,0],'r')\n",
    "plt"
   ]
  },
  {
   "cell_type": "code",
   "execution_count": 12,
   "metadata": {},
   "outputs": [
    {
     "name": "stdout",
     "output_type": "stream",
     "text": [
      "MAE :  0.09200895196057825\n",
      "RMSE :  0.17840577236010732\n",
      "MAPE:  99.99473210741031\n"
     ]
    }
   ],
   "source": [
    "mae = mean_absolute_error(predData, realData)\n",
    "rmse = sqrt(mean_squared_error(predData, realData))\n",
    "mape = mean_absolute_percentage_error(predData, realData)\n",
    "\n",
    "print(\"MAE : \", mae)\n",
    "print(\"RMSE : \", rmse)\n",
    "print(\"MAPE: \", (100 - mape))"
   ]
  },
  {
   "cell_type": "code",
   "execution_count": null,
   "metadata": {},
   "outputs": [],
   "source": []
  }
 ],
 "metadata": {
  "kernelspec": {
   "display_name": "Python 3",
   "language": "python",
   "name": "python3"
  },
  "language_info": {
   "codemirror_mode": {
    "name": "ipython",
    "version": 3
   },
   "file_extension": ".py",
   "mimetype": "text/x-python",
   "name": "python",
   "nbconvert_exporter": "python",
   "pygments_lexer": "ipython3",
   "version": "3.10.10"
  },
  "orig_nbformat": 4
 },
 "nbformat": 4,
 "nbformat_minor": 2
}
